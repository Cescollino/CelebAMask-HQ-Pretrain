{
  "nbformat": 4,
  "nbformat_minor": 0,
  "metadata": {
    "colab": {
      "provenance": [],
      "collapsed_sections": [],
      "toc_visible": true
    },
    "language_info": {
      "codemirror_mode": {
        "name": "ipython",
        "version": 3
      },
      "file_extension": ".py",
      "mimetype": "text/x-python",
      "name": "python",
      "nbconvert_exporter": "python",
      "pygments_lexer": "ipython3",
      "version": "3.6.7"
    },
    "kernelspec": {
      "name": "python3",
      "display_name": "Python 3"
    },
    "accelerator": "GPU"
  },
  "cells": [
    {
      "cell_type": "markdown",
      "metadata": {
        "id": "KMdbwOEbeQ0s"
      },
      "source": [
        "#PART I \n",
        "## An Introduction to Semantic Segmentation"
      ]
    },
    {
      "cell_type": "markdown",
      "source": [
        "# What is Semantic Segmentation?"
      ],
      "metadata": {
        "id": "hRLst5Sqh3Gi"
      }
    },
    {
      "cell_type": "markdown",
      "metadata": {
        "id": "8L-nWlkceQ06"
      },
      "source": [
        "\n",
        "Semantic Segmentation is an image analysis task in which we classify each pixel in the image into a class. <br/>\n",
        "\n",
        "Similar to what us humans do all the time by default, when are looking then whatever we are seeing if we think of that as an image\n",
        "then we know what class each pixel of the image belongs to.\n",
        "\n",
        "Essentially, Semantic Segmentation is the technique through which we can achieve this in Computers.\n",
        "\n",
        "There are a few more types of Segmentation, you can read about it more here: https://www.learnopencv.com/image-segmentation/\n",
        "This blog will focus on Semantic Segmentation\n",
        "\n",
        "So, let's say we have the following image.\n",
        "\n",
        "![](https://lh3.googleusercontent.com/-ELUnFgFJqUU/XPPXOOmhfMI/AAAAAAAAAP0/2cabsTI9uGUYxM3O3w4EOxjR_iJvEQAvACK8BGAs/s374/index3.png)\n",
        "<small> Source: Pexels </small>\n",
        "\n",
        "And then given the above image its semantically segmentated image would be the following\n",
        "\n",
        "![](https://lh3.googleusercontent.com/-gdUavPeOxdg/XPPXQngAnvI/AAAAAAAAAQA/yoksBterCGQGt-lv3aX4kfyMUDXTar7yACK8BGAs/s374/index4.png)\n",
        "\n",
        "As you can see, that each pixel in the image is classified to its respective class.\n",
        "\n",
        "This is in most simple terms what Semantic Segmentation is."
      ]
    },
    {
      "cell_type": "markdown",
      "source": [
        "# Applications of Segmentation\n"
      ],
      "metadata": {
        "id": "LpZwe449h8xK"
      }
    },
    {
      "cell_type": "markdown",
      "metadata": {
        "id": "_mQVy39SeQ1B"
      },
      "source": [
        "\n",
        "\n",
        "\n",
        "The most common use case for the Semantic Segmentation is in:\n",
        "\n",
        "1. **Autonomous Driving**\n",
        "\n",
        "  <img src=\"https://cdn-images-1.medium.com/max/1600/1*JKmS08bllQ8SCajIPyiBBQ.png\" width=\"400\"/> <br/>\n",
        "  <small> Source: CityScapes Dataset </small>\n",
        "  \n",
        "  In autonomous driving, the image which comes in from the camera is semantically segmented, thus each pixel in the image is classified\n",
        "  into a class. This helps the computer understand what is present in the its surroundings and thus helps the car act accordingly.\n",
        "\n",
        "\n",
        "2. **Facial Segmentation**\n",
        "\n",
        "  <img src=\"https://i.ytimg.com/vi/vrvwfFej_r4/maxresdefault.jpg\" width=\"400\"/> <br/>\n",
        "  <small> Source: https://github.com/massimomauro/FASSEG-repository/blob/master/papers/multiclass_face_segmentation_ICIP2015.pdf </small>\n",
        "\n",
        "  Facial Segmentation is used for segmenting each part of the face into a category, like lips, eyes etc. This technique is used for\n",
        "  many purposes such as gender estimation, age estimation, facial expression analysis, emotional analysis and more.\n",
        "  \n",
        "\n",
        "3. **Indoor Object Segmentation**\n",
        "\n",
        "  <img src=\"https://cs.nyu.edu/~silberman/rmrc2014/header_semantic_segmentation.jpg\" width=\"400\"/><br/>\n",
        "  <small> Source: http://buildingparser.stanford.edu/dataset.html </small>\n",
        "\n",
        "  Guess where is this used? In AR (Augmented Reality) and VR (Virtual Reality). AR applications when required segments the entire indoor area to understand where there \n",
        "  are chairs, tables, people, wall, and other obstacles and so on.\n",
        " \n",
        "\n",
        "4. **Geo-Land Sensing**\n",
        "\n",
        "  <img src=\"https://ars.els-cdn.com/content/image/1-s2.0-S0924271616305305-fx1_lrg.jpg\" width=\"400\"/> <br/>\n",
        "  <small> Source: https://www.sciencedirect.com/science/article/pii/S0924271616305305 </small>\n",
        "\n",
        "  Geo Land Sensing is a way of categorizing each pixel in satellite images into a category such that we can track the land cover of each\n",
        "  area. So, say in some area there is a heavy deforestation taking place then appropriate measures can be taken.\n"
      ]
    },
    {
      "cell_type": "markdown",
      "source": [
        "# Parameters of torchvision Network for Semantic Segmentation"
      ],
      "metadata": {
        "id": "MingqhwGiI36"
      }
    },
    {
      "cell_type": "markdown",
      "metadata": {
        "id": "ZsIngeXleQ1H"
      },
      "source": [
        "\n",
        "\n",
        "Now before we get started, we need to know about the inputs and outputs of these semantic segmentation models.<br/>\n",
        "So, let's start!\n",
        "\n",
        "These models expect a 3-channled image which is normalized with the Imagenet mean and standard deviation, i.e., <br/>\n",
        "`mean = [0.485, 0.456, 0.406], std = [0.229, 0.224, 0.225]`\n",
        "\n",
        "So, the input is `[Ni x Ci x Hi x Wi]`<br/>\n",
        "where,\n",
        "- `Ni` -> the batch size\n",
        "- `Ci` -> the number of channels (which is 3)\n",
        "- `Hi` -> the height of the image\n",
        "- `Wi` -> the width of the image\n",
        "\n",
        "And the output of the model is `[No x Co x Ho x Wo]`<br/>\n",
        "where,\n",
        "- `No` -> is the batch size (same as `Ni`)\n",
        "- `Co` -> **is the number of classes that the dataset have!**\n",
        "- `Ho` -> the height of the image (which is the same as `Hi` in almost all cases)\n",
        "- `Wo` -> the width of the image (which is the same as `Wi` in almost all cases)\n",
        "\n",
        "Alright! And just one more thing!\n",
        "The `torchvision` models outputs an `OrderedDict` and not a `torch.Tensor` <br/>\n",
        "And in `.eval()` mode it just has one key `out` and thus to get the output we need to get the value\n",
        "stored in that `key`.\n",
        "\n",
        "The `out` key of this `OrderedDict` is the key that holds the output. <br/>\n",
        "So, this `out` key's value has the shape of `[No x Co x Ho x Wo]`.\n",
        "\n",
        "Now! we are ready to play :)"
      ]
    },
    {
      "cell_type": "markdown",
      "metadata": {
        "id": "-r1Pac90eQ1R"
      },
      "source": [
        "# Importing Models\n",
        "\n",
        "For now, only using existing torchvision models, more can be found using [this link to Hugging Face](https://huggingface.co/models?pipeline_tag=image-segmentation&sort=downloads)"
      ]
    },
    {
      "cell_type": "code",
      "source": [
        "from torchvision import models"
      ],
      "metadata": {
        "id": "ABdkNNVajwLk"
      },
      "execution_count": null,
      "outputs": []
    },
    {
      "cell_type": "markdown",
      "metadata": {
        "id": "8BNGcmYSUwFM"
      },
      "source": [
        "##FCN with Resnet-101 backbone\n",
        "\n",
        "FCN - Fully Convolutional Networks, are among the most early invented Neural Networks for the task of Semantic Segmentation.\n",
        "\n",
        "Let's load one up!"
      ]
    },
    {
      "cell_type": "code",
      "metadata": {
        "id": "jebN_lm9eQ1W"
      },
      "source": [
        "fcn = models.segmentation.fcn_resnet101(pretrained=True).eval()"
      ],
      "execution_count": null,
      "outputs": []
    },
    {
      "cell_type": "markdown",
      "metadata": {
        "id": "uUBuc4w1eQ1q"
      },
      "source": [
        "And that's it we have a pretrained model of `FCN` (which stands for Fully Convolutional Neural Networks) with a `Resnet101` backbone :)\n",
        "\n",
        "Now, let's get an image!"
      ]
    },
    {
      "cell_type": "code",
      "metadata": {
        "id": "shnC_YQLeQ1v"
      },
      "source": [
        "from PIL import Image\n",
        "import matplotlib.pyplot as plt\n",
        "import torch\n",
        "import numpy as np\n",
        "\n",
        "!wget -nv https://static.independent.co.uk/s3fs-public/thumbnails/image/2018/04/10/19/pinyon-jay-bird.jpg -O bird.png\n"
      ],
      "execution_count": null,
      "outputs": []
    },
    {
      "cell_type": "code",
      "source": [
        "img = Image.open('./bird.png')\n",
        "#r, g, b = img.split()\n",
        "#print(r.histogram)\n",
        "plt.imshow(img); plt.show()\n"
      ],
      "metadata": {
        "id": "6ZK4qAvN3wfp"
      },
      "execution_count": null,
      "outputs": []
    },
    {
      "cell_type": "markdown",
      "metadata": {
        "id": "BhUMhvU4eQ2H"
      },
      "source": [
        "Now, that we have the image we need to preprocess it and normalize it! <br/>\n",
        "So, for the preprocessing steps, we:\n",
        "- Resize the image to `(256 x 256)`\n",
        "- CenterCrop it to `(224 x 224)`\n",
        "- Convert it to Tensor - all the values in the image becomes between `[0, 1]` from `[0, 255]`\n",
        "- Normalize it with the Imagenet specific values `mean = [0.485, 0.456, 0.406], std = [0.229, 0.224, 0.225]`\n",
        "\n",
        "And lastly, we unsqueeze the image so that it becomes `[1 x C x H x W]` from `[C x H x W]` <br/>\n",
        "We need a batch dimension while passing it to the models."
      ]
    },
    {
      "cell_type": "code",
      "metadata": {
        "id": "8HUEYeNJeQ2N"
      },
      "source": [
        "# Apply the transformations needed\n",
        "import torchvision.transforms as T\n",
        "trf = T.Compose([T.Resize(256),\n",
        "                 T.CenterCrop(224),\n",
        "                 T.ToTensor(), \n",
        "                 T.Normalize(mean = [0.485, 0.456, 0.406], \n",
        "                             std = [0.229, 0.224, 0.225])])\n",
        "inp = trf(img).unsqueeze(0)\n",
        "print(np.shape(inp))\n",
        "res=np.swapaxes(trf(img),2,0)\n",
        "print(np.shape(res))\n",
        "plt.imshow(res); plt.show()"
      ],
      "execution_count": null,
      "outputs": []
    },
    {
      "cell_type": "markdown",
      "metadata": {
        "id": "m_YJzUCUeQ2Z"
      },
      "source": [
        "Let's see what the above code cell does </br>\n",
        "`T.Compose` is a function that takes in a `list` in which each element is of `transforms` type and </br>\n",
        "it returns a object through which we can\n",
        "pass batches of images and all the required transforms will be applied to the images.\n",
        "\n",
        "Let's take a look at the transforms applied on the images:\n",
        "- `T.Resize(256)` : Resizes the image to size `256 x 256`\n",
        "- `T.CenterCrop(224)` : Center Crops the image to have a resulting size of `224 x 224`\n",
        "- `T.ToTensor()` : Converts the image to type `torch.Tensor` and have values between `[0, 1]`\n",
        "- `T.Normalize(mean, std)` : Normalizes the image with the given mean and standard deviation.\n",
        "\n",
        "Alright! Now that we have the image all preprocessed and ready! Let's pass it through the model and get the `out` key.<br/>\n",
        "As I said, the output of the model is a `OrderedDict` so, we need to take the `out` key from that to get the output of the model."
      ]
    },
    {
      "cell_type": "code",
      "metadata": {
        "id": "5QDujuCbeQ2h"
      },
      "source": [
        "# Pass the input through the net\n",
        "out = fcn(inp)['out']\n",
        "print (out.shape)"
      ],
      "execution_count": null,
      "outputs": []
    },
    {
      "cell_type": "markdown",
      "metadata": {
        "id": "xn3jqtH_eQ27"
      },
      "source": [
        "Alright! So, `out` is the final output of the model. And as we can see, its shape is `[1 x 21 x H x W]` as discussed earlier. So, the model was trained on `21` classes and thus our output have `21` channels!<br/>\n",
        "\n",
        "Now, what we need to do is make this `21` channeled output into a `2D` image or a `1` channeled image, where each pixel of that image corresponds to a class!\n",
        "\n",
        "So, the `2D` image, (of shape `[H x W]`) will have each pixel corresponding to a class label, and thus <br/>\n",
        "for each `(x, y)` in this `2D` image will correspond to a number between `0 - 20` representing a class.\n",
        "\n",
        "And how do we get there from this `[1 x 21 x H x W]`?<br/>\n",
        "We take a maximum class prediction value for each pixel position.<br/>"
      ]
    },
    {
      "cell_type": "code",
      "metadata": {
        "id": "FEWJRobBeQ3A"
      },
      "source": [
        "import numpy as np\n",
        "om = torch.argmax(out.squeeze(), dim=0).detach().cpu().numpy()\n",
        "print (om.shape)\n",
        "print (np.unique(om))\n",
        "plt.imshow(om); plt.show()"
      ],
      "execution_count": null,
      "outputs": []
    },
    {
      "cell_type": "markdown",
      "metadata": {
        "id": "yrOasC91eQ3X"
      },
      "source": [
        "Alright! So, we as we can see now have a `2D` image. Where each pixel corresponds to a class!\n",
        "The last thing is to take this `2D` image where each pixel corresponds to a class label and convert this<br/>\n",
        "into a segmentation map where each class label is converted into a `RGB` color and thus helping in easy visualization.\n",
        "\n",
        "We will use the following function to convert this `2D` image to an `RGB` image wheree each label is mapped to its\n",
        "corresponding color."
      ]
    },
    {
      "cell_type": "code",
      "metadata": {
        "id": "5GA_GNohUHnR"
      },
      "source": [
        "# Define the helper function\n",
        "def decode_segmap(image, nc=21):\n",
        "  \n",
        "  label_colors = np.array([(0, 0, 0),  # 0=background\n",
        "               # 1=aeroplane, 2=bicycle, 3=bird, 4=boat, 5=bottle\n",
        "               (128, 0, 0), (0, 128, 0), (128, 128, 0), (0, 0, 128), (128, 0, 128),\n",
        "               # 6=bus, 7=car, 8=cat, 9=chair, 10=cow\n",
        "               (0, 128, 128), (128, 128, 128), (64, 0, 0), (192, 0, 0), (64, 128, 0),\n",
        "               # 11=dining table, 12=dog, 13=horse, 14=motorbike, 15=person\n",
        "               (192, 128, 0), (64, 0, 128), (192, 0, 128), (64, 128, 128), (192, 128, 128),\n",
        "               # 16=potted plant, 17=sheep, 18=sofa, 19=train, 20=tv/monitor\n",
        "               (0, 64, 0), (128, 64, 0), (0, 192, 0), (128, 192, 0), (0, 64, 128)])\n",
        "\n",
        "  r = np.zeros_like(image).astype(np.uint8)\n",
        "  g = np.zeros_like(image).astype(np.uint8)\n",
        "  b = np.zeros_like(image).astype(np.uint8)\n",
        "  \n",
        "  for l in range(0, nc):\n",
        "    idx = image == l\n",
        "    r[idx] = label_colors[l, 0]\n",
        "    g[idx] = label_colors[l, 1]\n",
        "    b[idx] = label_colors[l, 2]\n",
        "    \n",
        "  rgb = np.stack([r, g, b], axis=2)\n",
        "  return rgb"
      ],
      "execution_count": null,
      "outputs": []
    },
    {
      "cell_type": "markdown",
      "metadata": {
        "id": "jIH1UIVvUJMi"
      },
      "source": [
        "Let's see what we are doing inside this function!\n",
        "\n",
        "first `label_colors` stores the colors for each of the clases, according to the index </br>\n",
        "So, the color for the  first class which is `background` is stored in the `0`th index of the `label_colors` list, \n",
        "the second class which is `aeroplane` is stored at index `1` of `label_colors`.\n",
        "\n",
        "Now, we are to create an `RGB` image from the `2D` image passed. So, what we do, is we create empty `2D` matrices for all 3 channels.\n",
        "\n",
        "So, `r`, `g`, and `b` are arrays which will form the `RGB` channels for the final image. And each are of shape `[H x W]` \n",
        "(which is same as the shape of `image` passed in)\n",
        "\n",
        "Now, we loop over each class color we stored in `label_colors`.\n",
        "And we get the indexes in the image where that particular class label is present. (`idx = image == l`)\n",
        "And then for each channel, we put its corresponding color to those pixels where that class label is present.\n",
        "\n",
        "And finally we stack the 3 seperate channels to form a `RGB` image.\n",
        "\n",
        "Okay! Now, let's use this function to see the final segmented output!"
      ]
    },
    {
      "cell_type": "code",
      "metadata": {
        "id": "02LtJMO_eQ3c"
      },
      "source": [
        "rgb = decode_segmap(om)\n",
        "plt.imshow(rgb); plt.show()"
      ],
      "execution_count": null,
      "outputs": []
    },
    {
      "cell_type": "markdown",
      "metadata": {
        "id": "lbXzPQoBeQ3w"
      },
      "source": [
        "And there we go!!<br/>\n",
        "Wooohooo! We have segmented the output of the image. \n",
        "\n",
        "That's the bird!\n",
        "\n",
        "Also, Do note that the image after segmentation is smaller than the original image as in the preprocessing step the image is resized and cropped.\n",
        "\n",
        "Next, let's move all this under one function and play with a few more images!"
      ]
    },
    {
      "cell_type": "code",
      "metadata": {
        "id": "_yTvVvX7eQ32"
      },
      "source": [
        "def segment(net, path, show_orig=True, dev='cuda'):\n",
        "  img = Image.open(path)\n",
        "  if show_orig: plt.imshow(img); plt.axis('off'); plt.show()\n",
        "  # Comment the Resize and CenterCrop for better inference results\n",
        "  trf = T.Compose([T.Resize(640), \n",
        "                   #T.CenterCrop(224), \n",
        "                   T.ToTensor(), \n",
        "                   T.Normalize(mean = [0.485, 0.456, 0.406], \n",
        "                               std = [0.229, 0.224, 0.225])])\n",
        "  inp = trf(img).unsqueeze(0).to(dev)\n",
        "  out = net.to(dev)(inp)['out']\n",
        "  om = torch.argmax(out.squeeze(), dim=0).detach().cpu().numpy()\n",
        "  rgb = decode_segmap(om)\n",
        "  plt.imshow(rgb); plt.axis('off'); plt.show()"
      ],
      "execution_count": null,
      "outputs": []
    },
    {
      "cell_type": "markdown",
      "metadata": {
        "id": "3hRnbZqbeQ4H"
      },
      "source": [
        "And let's get a new image!"
      ]
    },
    {
      "cell_type": "code",
      "metadata": {
        "id": "wX7_viyieQ4K"
      },
      "source": [
        "!wget -nv https://www.learnopencv.com/wp-content/uploads/2021/01/horse-segmentation.jpeg -O horse.png\n",
        "segment(fcn, './horse.png')"
      ],
      "execution_count": null,
      "outputs": []
    },
    {
      "cell_type": "markdown",
      "metadata": {
        "id": "ZLo9m1nOeQ4W"
      },
      "source": [
        "### DeepLabv3"
      ]
    },
    {
      "cell_type": "code",
      "metadata": {
        "id": "m_CLq1ZfeQ4b"
      },
      "source": [
        "dlab = models.segmentation.deeplabv3_resnet101(pretrained=1).eval()"
      ],
      "execution_count": null,
      "outputs": []
    },
    {
      "cell_type": "markdown",
      "metadata": {
        "id": "SgeogLnLeQ4n"
      },
      "source": [
        "Alright! Now we have god-level segmentation model!<br/>\n",
        "Let's see how we perform with the same image on this model!"
      ]
    },
    {
      "cell_type": "code",
      "metadata": {
        "id": "60vz9GkBeQ4s"
      },
      "source": [
        "segment(dlab, './horse.png')"
      ],
      "execution_count": null,
      "outputs": []
    },
    {
      "cell_type": "markdown",
      "metadata": {
        "id": "QQPgPR07euk6"
      },
      "source": [
        "Yeah! So, there you go! You can see that, the DeepLab model has also classified the image quite nicely! </br>\n",
        "But if we take a more complex image! Then we start to see model differences! \n",
        "\n",
        "Note: As we saw before the output image size is smaller than the original image as the original image is resized and cropped in the preprocessing step.\n",
        "\n",
        "Let's try that out!"
      ]
    },
    {
      "cell_type": "code",
      "metadata": {
        "id": "NIVWe_asNECq"
      },
      "source": [
        "!wget -nv \"https://www.learnopencv.com/wp-content/uploads/2021/01/person-segmentation.jpeg\" -O person.png\n",
        "img = Image.open('./person.png')\n",
        "plt.imshow(img); plt.show()\n",
        "\n",
        "print ('Segmenatation Image on FCN')\n",
        "segment(fcn, path='./person.png', show_orig=False)\n",
        "\n",
        "print ('Segmenatation Image on DeepLabv3')\n",
        "segment(dlab, path='./person.png', show_orig=False)"
      ],
      "execution_count": null,
      "outputs": []
    },
    {
      "cell_type": "markdown",
      "metadata": {
        "id": "xnE4pUeWQEAy"
      },
      "source": [
        "Okay! You can now see the model differences right?\n",
        "\n",
        "You can see how FCN fails to capture the continuity of the leg of the cow while DeepLabv3 is able to capture that!\n",
        "\n",
        "Also, if we look closer into the hand of the human which is on the cow, we can see that the FCN model captures it nicely, not very nicely, but still, while the DeepLabv3 model has captured it too but not that well!\n",
        "\n",
        "These are a few model differences that be noticed with bare eyes!\n",
        "\n",
        "Note: As we saw before the output image size is smaller than the original image as the original image is resized and cropped in the preprocessing step.\n",
        "\n",
        "Do play around with a few more images to see how these models perform in different scenarios.!"
      ]
    },
    {
      "cell_type": "markdown",
      "metadata": {
        "id": "CGTDWjkmVfqU"
      },
      "source": [
        "## Comparision\n",
        "\n",
        "For, now we will see how these two models compare with each other in 3 metrics\n",
        "- Inference time\n",
        "- Size of the model\n",
        "- GPU memory used by the model"
      ]
    },
    {
      "cell_type": "markdown",
      "metadata": {
        "id": "m1CB4IJ14b7R"
      },
      "source": [
        "### Inference Time"
      ]
    },
    {
      "cell_type": "code",
      "metadata": {
        "id": "fgT4DaHx4a7h"
      },
      "source": [
        "import time\n",
        "\n",
        "def infer_time(net, path='./horse.png', dev='cuda'):\n",
        "  img = Image.open(path)\n",
        "  trf = T.Compose([T.Resize(256), \n",
        "                   T.CenterCrop(224), \n",
        "                   T.ToTensor(), \n",
        "                   T.Normalize(mean = [0.485, 0.456, 0.406], \n",
        "                               std = [0.229, 0.224, 0.225])])\n",
        "  \n",
        "  inp = trf(img).unsqueeze(0).to(dev)\n",
        "  \n",
        "  st = time.time()\n",
        "  out1 = net.to(dev)(inp)\n",
        "  et = time.time()\n",
        "  \n",
        "  return et - st"
      ],
      "execution_count": null,
      "outputs": []
    },
    {
      "cell_type": "markdown",
      "metadata": {
        "id": "IvvtsNgT4ric"
      },
      "source": [
        "#### On CPU"
      ]
    },
    {
      "cell_type": "code",
      "metadata": {
        "id": "gmRzOtko4o11"
      },
      "source": [
        "avg_over = 100\n",
        "\n",
        "fcn_infer_time_list_cpu = [infer_time(fcn, dev='cpu') for _ in range(avg_over)]\n",
        "fcn_infer_time_avg_cpu = sum(fcn_infer_time_list_cpu) / avg_over\n",
        "\n",
        "dlab_infer_time_list_cpu = [infer_time(dlab, dev='cpu') for _ in range(avg_over)]\n",
        "dlab_infer_time_avg_cpu = sum(dlab_infer_time_list_cpu) / avg_over\n",
        "print ('The Average Inference time on FCN is:     {:.2f}s'.format(fcn_infer_time_avg_cpu))\n",
        "print ('The Average Inference time on DeepLab is: {:.2f}s'.format(dlab_infer_time_avg_cpu))"
      ],
      "execution_count": null,
      "outputs": []
    },
    {
      "cell_type": "markdown",
      "metadata": {
        "id": "7-DFS4fy4zjR"
      },
      "source": [
        "#### On GPU"
      ]
    },
    {
      "cell_type": "code",
      "metadata": {
        "id": "hJSUxrpm40p6"
      },
      "source": [
        "avg_over = 100\n",
        "\n",
        "fcn_infer_time_list_gpu = [infer_time(fcn) for _ in range(avg_over)]\n",
        "fcn_infer_time_avg_gpu = sum(fcn_infer_time_list_gpu) / avg_over\n",
        "\n",
        "dlab_infer_time_list_gpu = [infer_time(dlab) for _ in range(avg_over)]\n",
        "dlab_infer_time_avg_gpu = sum(dlab_infer_time_list_gpu) / avg_over\n",
        "\n",
        "print ('The Average Inference time on FCN is:     {:.3f}s'.format(fcn_infer_time_avg_gpu))\n",
        "print ('The Average Inference time on DeepLab is: {:.3f}s'.format(dlab_infer_time_avg_gpu))"
      ],
      "execution_count": null,
      "outputs": []
    },
    {
      "cell_type": "markdown",
      "metadata": {
        "id": "0c7V8R_Xip5h"
      },
      "source": [
        "### Model Size"
      ]
    },
    {
      "cell_type": "code",
      "metadata": {
        "id": "ZhVyFg_4pQu4"
      },
      "source": [
        "import os\n",
        "\n",
        "resnet101_size = os.path.getsize('/root/.cache/torch/hub/checkpoints/resnet101-5d3b4d8f.pth')\n",
        "fcn_size = os.path.getsize('/root/.cache/torch/hub/checkpoints/fcn_resnet101_coco-7ecb50ca.pth')\n",
        "dlab_size = os.path.getsize('/root/.cache/torch/hub/checkpoints/deeplabv3_resnet101_coco-586e9e4e.pth')\n",
        "\n",
        "fcn_total = fcn_size + resnet101_size\n",
        "dlab_total = dlab_size + resnet101_size\n",
        "    \n",
        "print ('Size of the FCN model with Resnet101 backbone is:       {:.2f} MB'.format(fcn_total /  (1024 * 1024)))\n",
        "print ('Size of the DeepLabv3 model with Resnet101 backbone is: {:.2f} MB'.format(dlab_total / (1024 * 1024)))"
      ],
      "execution_count": null,
      "outputs": []
    },
    {
      "cell_type": "code",
      "metadata": {
        "id": "dwbeey11652y"
      },
      "source": [
        "plt.bar([0, 1], [fcn_total / (1024 * 1024), dlab_total / (1024 * 1024)])\n",
        "plt.ylabel('Size of the model in MegaBytes')\n",
        "plt.xticks([0, 1], ['FCN', 'DeepLabv3'])\n",
        "plt.title('Comparison of the model size of FCN and DeepLabv3')\n",
        "plt.show()"
      ],
      "execution_count": null,
      "outputs": []
    },
    {
      "cell_type": "markdown",
      "metadata": {
        "id": "LdRkeAP0tU9d"
      },
      "source": [
        "## Conclusion"
      ]
    },
    {
      "cell_type": "markdown",
      "metadata": {
        "id": "2AB5w01teQ4-"
      },
      "source": [
        "Hope you enjoyed this tutorial!\n",
        "\n",
        "Feel free to leave comments and any feedback you wish! If you would like to learn<br/>\n",
        "more about this, how these techniques work and how to implement these models!\n",
        "\n",
        "Please do check out the `Deep Learning with PyTorch` Course from OpenCV.org! <br/>\n",
        "Link: https://opencv.org/ai-courses-by-opencv-kickstarter-campaign/"
      ]
    },
    {
      "cell_type": "code",
      "execution_count": null,
      "metadata": {
        "id": "ZUC-XnwqhJsU"
      },
      "outputs": [],
      "source": [
        "%matplotlib inline"
      ]
    },
    {
      "cell_type": "markdown",
      "source": [
        "#PART II"
      ],
      "metadata": {
        "id": "sm1nNLHaXXaW"
      }
    },
    {
      "cell_type": "markdown",
      "metadata": {
        "id": "P50m2E48hJsW"
      },
      "source": [
        "# Transfer Learning for Computer Vision Tutorial\n",
        "**Adapted From Pytorch's Author**: [Sasank Chilamkurthy](https://chsasank.github.io)\n",
        "\n",
        "In this tutorial, you will learn how to train a convolutional neural network for\n",
        "image classification using transfer learning. You can read more about the transfer\n",
        "learning at [cs231n notes](https://cs231n.github.io/transfer-learning/)_\n",
        "\n",
        "Quoting these notes,\n",
        "\n",
        "    In practice, very few people train an entire Convolutional Network\n",
        "    from scratch (with random initialization), because it is relatively\n",
        "    rare to have a dataset of sufficient size. Instead, it is common to\n",
        "    pretrain a ConvNet on a very large dataset (e.g. ImageNet, which\n",
        "    contains 1.2 million images with 1000 categories), and then use the\n",
        "    ConvNet either as an initialization or a fixed feature extractor for\n",
        "    the task of interest.\n",
        "\n",
        "These two major transfer learning scenarios look as follows:\n",
        "\n",
        "-  **Finetuning the convnet**: Instead of random initialization, we\n",
        "   initialize the network with a pretrained network, like the one that is\n",
        "   trained on imagenet 1000 dataset. Rest of the training looks as\n",
        "   usual.\n",
        "-  **ConvNet as fixed feature extractor**: Here, we will freeze the weights\n",
        "   for all of the network except that of the final fully connected\n",
        "   layer. This last fully connected layer is replaced with a new one\n",
        "   with random weights and only this layer is trained.\n"
      ]
    },
    {
      "cell_type": "code",
      "execution_count": 1,
      "metadata": {
        "id": "4Qh4r1UdhJsY"
      },
      "outputs": [],
      "source": [
        "# License: BSD\n",
        "# Author: Sasank Chilamkurthy\n",
        "\n",
        "from __future__ import print_function, division\n",
        "\n",
        "import torch\n",
        "import torch.nn as nn\n",
        "import torch.optim as optim\n",
        "from torch.optim import lr_scheduler\n",
        "import torch.backends.cudnn as cudnn\n",
        "import numpy as np\n",
        "import torchvision\n",
        "from torchvision import datasets, models, transforms\n",
        "import matplotlib.pyplot as plt\n",
        "import time\n",
        "import os\n",
        "import random\n",
        "import copy\n",
        "\n",
        "cudnn.benchmark = True\n",
        "plt.ion()   # interactive mode"
      ]
    },
    {
      "cell_type": "markdown",
      "metadata": {
        "id": "6EM-Wg_thJsa"
      },
      "source": [
        "## Load Data\n",
        "\n",
        "The original tutorial trains a model to classify\n",
        "**ants** and **bees**. We have about 120 training images each for ants and bees.\n",
        "There are 75 validation images for each class. Usually, this is a very\n",
        "small dataset to generalize upon, if trained from scratch. Since we\n",
        "are using transfer learning, we should be able to generalize reasonably\n",
        "well.\n",
        "\n",
        "This dataset is a very small subset of imagenet.\n",
        "\n",
        ".. Note ::\n",
        "   Download the data from\n",
        "   [here](https://download.pytorch.org/tutorial/hymenoptera_data.zip)\n",
        "   and extract it to the current directory.\n",
        "\n"
      ]
    },
    {
      "cell_type": "code",
      "source": [
        "#!wget https://download.pytorch.org/tutorial/hymenoptera_data.zip"
      ],
      "metadata": {
        "id": "Lqe0YlXOi_BL"
      },
      "execution_count": null,
      "outputs": []
    },
    {
      "cell_type": "code",
      "source": [
        "#!unzip hymenoptera_data.zip"
      ],
      "metadata": {
        "id": "ex9PLElljYLE"
      },
      "execution_count": null,
      "outputs": []
    },
    {
      "cell_type": "markdown",
      "source": [
        "In our case, for semantic segmentation we will use the [CelebAMask-HQ Dataset](https://github.com/switchablenorms/CelebAMask-HQ)\n",
        "\n",
        "We could also use the pytorch implemented [PASCAL VOC Dataset](http://host.robots.ox.ac.uk/pascal/VOC/voc2012/VOCtrainval_11-May-2012.tar).\n",
        "\n",
        "Or the more tedious [Stanford Background Dataset](http://dags.stanford.edu/data/iccv09Data.tar.gz)\n",
        "Introduced in Gould et al. (ICCV 2009)\n",
        "\n",
        "However CelebAMask-HQ Dataset is optimal for facial feature segmentation."
      ],
      "metadata": {
        "id": "W2PwHQN4prTJ"
      }
    },
    {
      "cell_type": "code",
      "source": [
        "!pip install gdown"
      ],
      "metadata": {
        "id": "DlHznvALkYHF"
      },
      "execution_count": null,
      "outputs": []
    },
    {
      "cell_type": "code",
      "source": [
        "!gdown https://drive.google.com/uc?id=1badu11NqxGf6qM3PTTooQDJvQbejgbTv"
      ],
      "metadata": {
        "id": "KATg4ZoLkaFU"
      },
      "execution_count": null,
      "outputs": []
    },
    {
      "cell_type": "code",
      "source": [
        "!unzip CelebAMask-HQ.zip"
      ],
      "metadata": {
        "id": "SM5Ca5e1kqOt"
      },
      "execution_count": null,
      "outputs": []
    },
    {
      "cell_type": "markdown",
      "source": [
        "###Preprocessing\n",
        "\n",
        "  \n",
        "\n",
        "*     Move the mask folder, the image folder, and CelebA-HQ-to-CelebA-mapping.txt ( remove 1st line in advance ) under ./Data_preprocessing\n",
        "*   Run python g_mask.py\n",
        "*   Run python g_partition.py to split train set and test set.\n",
        "\n",
        "\n",
        "    \n",
        "    \n",
        "\n"
      ],
      "metadata": {
        "id": "WgiLicwUo6x3"
      }
    },
    {
      "cell_type": "code",
      "source": [],
      "metadata": {
        "id": "2DfIseN4onEG"
      },
      "execution_count": null,
      "outputs": []
    },
    {
      "cell_type": "code",
      "execution_count": null,
      "metadata": {
        "id": "KS_LaxoghJsb"
      },
      "outputs": [],
      "source": [
        "# Data augmentation and normalization for training\n",
        "# Just normalization for validation\n",
        "data_transforms = {\n",
        "    'train': transforms.Compose([\n",
        "        transforms.RandomResizedCrop(224),\n",
        "        transforms.RandomHorizontalFlip(),\n",
        "        transforms.ToTensor(),\n",
        "        transforms.Normalize([0.485, 0.456, 0.406], [0.229, 0.224, 0.225])\n",
        "    ]),\n",
        "    'val': transforms.Compose([\n",
        "        transforms.Resize(256),\n",
        "        transforms.CenterCrop(224),\n",
        "        transforms.ToTensor(),\n",
        "        transforms.Normalize([0.485, 0.456, 0.406], [0.229, 0.224, 0.225])\n",
        "    ]),\n",
        "}\n",
        "\n",
        "#data_dir = '/content/hymenoptera_data'\n",
        "data_dir = '/content/iccv09Data/'\n",
        "\n",
        "image_datasets = {x: datasets.ImageFolder(os.path.join(data_dir, x),\n",
        "                                          data_transforms[x])\n",
        "                  for x in ['train', 'val']}\n",
        "dataloaders = {x: torch.utils.data.DataLoader(image_datasets[x], batch_size=4,\n",
        "                                             shuffle=True, num_workers=4)\n",
        "              for x in ['train', 'val']}\n",
        "dataset_sizes = {x: len(image_datasets[x]) for x in ['train', 'val']}\n",
        "class_names = image_datasets['train'].classes\n",
        "\n",
        "device = torch.device(\"cuda:0\" if torch.cuda.is_available() else \"cpu\")"
      ]
    },
    {
      "cell_type": "markdown",
      "metadata": {
        "id": "YTkgF9aghJsc"
      },
      "source": [
        "### Visualize a few images\n",
        "Let's visualize a few training images so as to understand the data\n",
        "augmentations.\n",
        "\n"
      ]
    },
    {
      "cell_type": "code",
      "execution_count": null,
      "metadata": {
        "id": "V4RAkFpHhJsd"
      },
      "outputs": [],
      "source": [
        "def imshow(inp, title=None):\n",
        "    \"\"\"Imshow for Tensor.\"\"\"\n",
        "    inp = inp.numpy().transpose((1, 2, 0))\n",
        "    mean = np.array([0.485, 0.456, 0.406])\n",
        "    std = np.array([0.229, 0.224, 0.225])\n",
        "    inp = std * inp + mean\n",
        "    inp = np.clip(inp, 0, 1)\n",
        "    plt.imshow(inp)\n",
        "    if title is not None:\n",
        "        plt.title(title)\n",
        "    plt.pause(0.001)  # pause a bit so that plots are updated\n",
        "\n",
        "\n",
        "# Get a batch of training data\n",
        "inputs, classes = next(iter(dataloaders['train']))\n",
        "\n",
        "# Make a grid from batch\n",
        "out = torchvision.utils.make_grid(inputs)\n",
        "\n",
        "imshow(out, title=[class_names[x] for x in classes])"
      ]
    },
    {
      "cell_type": "markdown",
      "metadata": {
        "id": "ykSzX_eLhJse"
      },
      "source": [
        "## Training the model\n",
        "\n",
        "Now, let's write a general function to train a model. Here, we will\n",
        "illustrate:\n",
        "\n",
        "-  Scheduling the learning rate\n",
        "-  Saving the best model\n",
        "\n",
        "In the following, parameter ``scheduler`` is an LR scheduler object from\n",
        "``torch.optim.lr_scheduler``.\n",
        "\n"
      ]
    },
    {
      "cell_type": "code",
      "execution_count": null,
      "metadata": {
        "id": "zT1bQq-uhJsf"
      },
      "outputs": [],
      "source": [
        "def train_model(model, criterion, optimizer, scheduler, num_epochs=25):\n",
        "    since = time.time()\n",
        "\n",
        "    best_model_wts = copy.deepcopy(model.state_dict())\n",
        "    best_acc = 0.0\n",
        "\n",
        "    for epoch in range(num_epochs):\n",
        "        print(f'Epoch {epoch}/{num_epochs - 1}')\n",
        "        print('-' * 10)\n",
        "\n",
        "        # Each epoch has a training and validation phase\n",
        "        for phase in ['train', 'val']:\n",
        "            if phase == 'train':\n",
        "                model.train()  # Set model to training mode\n",
        "            else:\n",
        "                model.eval()   # Set model to evaluate mode\n",
        "\n",
        "            running_loss = 0.0\n",
        "            running_corrects = 0\n",
        "\n",
        "            # Iterate over data.\n",
        "            for inputs, labels in dataloaders[phase]:\n",
        "                inputs = inputs.to(device)\n",
        "                labels = labels.to(device)\n",
        "\n",
        "                # zero the parameter gradients\n",
        "                optimizer.zero_grad()\n",
        "\n",
        "                # forward\n",
        "                # track history if only in train\n",
        "                with torch.set_grad_enabled(phase == 'train'):\n",
        "                    outputs = model(inputs)\n",
        "                    _, preds = torch.max(outputs, 1)\n",
        "                    loss = criterion(outputs, labels)\n",
        "\n",
        "                    # backward + optimize only if in training phase\n",
        "                    if phase == 'train':\n",
        "                        loss.backward()\n",
        "                        optimizer.step()\n",
        "\n",
        "                # statistics\n",
        "                running_loss += loss.item() * inputs.size(0)\n",
        "                running_corrects += torch.sum(preds == labels.data)\n",
        "            if phase == 'train':\n",
        "                scheduler.step()\n",
        "\n",
        "            epoch_loss = running_loss / dataset_sizes[phase]\n",
        "            epoch_acc = running_corrects.double() / dataset_sizes[phase]\n",
        "\n",
        "            print(f'{phase} Loss: {epoch_loss:.4f} Acc: {epoch_acc:.4f}')\n",
        "\n",
        "            # deep copy the model\n",
        "            if phase == 'val' and epoch_acc > best_acc:\n",
        "                best_acc = epoch_acc\n",
        "                best_model_wts = copy.deepcopy(model.state_dict())\n",
        "\n",
        "        print()\n",
        "\n",
        "    time_elapsed = time.time() - since\n",
        "    print(f'Training complete in {time_elapsed // 60:.0f}m {time_elapsed % 60:.0f}s')\n",
        "    print(f'Best val Acc: {best_acc:4f}')\n",
        "\n",
        "    # load best model weights\n",
        "    model.load_state_dict(best_model_wts)\n",
        "    return model"
      ]
    },
    {
      "cell_type": "markdown",
      "metadata": {
        "id": "ll1ACHD4hJsg"
      },
      "source": [
        "### Visualizing the model predictions\n",
        "\n",
        "Generic function to display predictions for a few images\n",
        "\n",
        "\n"
      ]
    },
    {
      "cell_type": "code",
      "execution_count": null,
      "metadata": {
        "id": "RH8KONyshJsh"
      },
      "outputs": [],
      "source": [
        "def visualize_model(model, num_images=6):\n",
        "    was_training = model.training\n",
        "    model.eval()\n",
        "    images_so_far = 0\n",
        "    fig = plt.figure()\n",
        "\n",
        "    with torch.no_grad():\n",
        "        for i, (inputs, labels) in enumerate(dataloaders['val']):\n",
        "            inputs = inputs.to(device)\n",
        "            labels = labels.to(device)\n",
        "\n",
        "            outputs = model(inputs)\n",
        "            _, preds = torch.max(outputs, 1)\n",
        "\n",
        "            for j in range(inputs.size()[0]):\n",
        "                images_so_far += 1\n",
        "                ax = plt.subplot(num_images//2, 2, images_so_far)\n",
        "                ax.axis('off')\n",
        "                ax.set_title(f'predicted: {class_names[preds[j]]}')\n",
        "                imshow(inputs.cpu().data[j])\n",
        "\n",
        "                if images_so_far == num_images:\n",
        "                    model.train(mode=was_training)\n",
        "                    return\n",
        "        model.train(mode=was_training)"
      ]
    },
    {
      "cell_type": "markdown",
      "metadata": {
        "id": "otce7LgYhJsi"
      },
      "source": [
        "## Finetuning the convnet\n",
        "\n",
        "Load a pretrained model and reset final fully connected layer.\n",
        "\n",
        "\n"
      ]
    },
    {
      "cell_type": "code",
      "execution_count": null,
      "metadata": {
        "id": "H7M_l3ZjhJsi"
      },
      "outputs": [],
      "source": [
        "model_ft = models.resnet18(pretrained=True)\n",
        "num_ftrs = model_ft.fc.in_features\n",
        "# Here the size of each output sample is set to 2.\n",
        "# Alternatively, it can be generalized to nn.Linear(num_ftrs, len(class_names)).\n",
        "model_ft.fc = nn.Linear(num_ftrs, 2)\n",
        "\n",
        "model_ft = model_ft.to(device)\n",
        "\n",
        "criterion = nn.CrossEntropyLoss()\n",
        "\n",
        "# Observe that all parameters are being optimized\n",
        "optimizer_ft = optim.SGD(model_ft.parameters(), lr=0.001, momentum=0.9)\n",
        "\n",
        "# Decay LR by a factor of 0.1 every 7 epochs\n",
        "exp_lr_scheduler = lr_scheduler.StepLR(optimizer_ft, step_size=7, gamma=0.1)"
      ]
    },
    {
      "cell_type": "markdown",
      "metadata": {
        "id": "mf3brvumhJsj"
      },
      "source": [
        "### Train and evaluate\n",
        "\n",
        "It should take around 15-25 min on CPU. On GPU though, it takes less than a\n",
        "minute.\n",
        "\n",
        "\n"
      ]
    },
    {
      "cell_type": "code",
      "execution_count": null,
      "metadata": {
        "id": "rHmpptOdhJsj"
      },
      "outputs": [],
      "source": [
        "model_ft = train_model(model_ft, criterion, optimizer_ft, exp_lr_scheduler,\n",
        "                       num_epochs=25)"
      ]
    },
    {
      "cell_type": "code",
      "execution_count": null,
      "metadata": {
        "id": "2UdBKMVfhJsk"
      },
      "outputs": [],
      "source": [
        "visualize_model(model_ft)"
      ]
    },
    {
      "cell_type": "markdown",
      "metadata": {
        "id": "u0f_A4B1hJsk"
      },
      "source": [
        "## ConvNet as fixed feature extractor\n",
        "\n",
        "Here, we need to freeze all the network except the final layer. We need\n",
        "to set ``requires_grad = False`` to freeze the parameters so that the\n",
        "gradients are not computed in ``backward()``.\n",
        "\n",
        "You can read more about this in the documentation\n",
        "[here](https://pytorch.org/docs/notes/autograd.html#excluding-subgraphs-from-backward)_.\n",
        "\n",
        "\n"
      ]
    },
    {
      "cell_type": "code",
      "execution_count": null,
      "metadata": {
        "id": "0KdvGI62hJsl"
      },
      "outputs": [],
      "source": [
        "model_conv = torchvision.models.resnet18(pretrained=True)\n",
        "for param in model_conv.parameters():\n",
        "    param.requires_grad = False\n",
        "\n",
        "# Parameters of newly constructed modules have requires_grad=True by default\n",
        "num_ftrs = model_conv.fc.in_features\n",
        "model_conv.fc = nn.Linear(num_ftrs, 2)\n",
        "\n",
        "model_conv = model_conv.to(device)\n",
        "\n",
        "criterion = nn.CrossEntropyLoss()\n",
        "\n",
        "# Observe that only parameters of final layer are being optimized as\n",
        "# opposed to before.\n",
        "optimizer_conv = optim.SGD(model_conv.fc.parameters(), lr=0.001, momentum=0.9)\n",
        "\n",
        "# Decay LR by a factor of 0.1 every 7 epochs\n",
        "exp_lr_scheduler = lr_scheduler.StepLR(optimizer_conv, step_size=7, gamma=0.1)"
      ]
    },
    {
      "cell_type": "markdown",
      "metadata": {
        "id": "alsr4vMghJsm"
      },
      "source": [
        "### Train and evaluate\n",
        "\n",
        "On CPU this will take about half the time compared to previous scenario.\n",
        "This is expected as gradients don't need to be computed for most of the\n",
        "network. However, forward does need to be computed.\n",
        "\n",
        "\n"
      ]
    },
    {
      "cell_type": "code",
      "execution_count": null,
      "metadata": {
        "id": "Epeb5_uuhJsm"
      },
      "outputs": [],
      "source": [
        "model_conv = train_model(model_conv, criterion, optimizer_conv,\n",
        "                         exp_lr_scheduler, num_epochs=25)"
      ]
    },
    {
      "cell_type": "code",
      "execution_count": null,
      "metadata": {
        "id": "xN56T4HNhJsn"
      },
      "outputs": [],
      "source": [
        "visualize_model(model_conv)\n",
        "\n",
        "plt.ioff()\n",
        "plt.show()"
      ]
    },
    {
      "cell_type": "markdown",
      "metadata": {
        "id": "sJ4JxBcRhJsn"
      },
      "source": [
        "## Further Learning\n",
        "\n",
        "If you would like to learn more about the applications of transfer learning,\n",
        "checkout our [Quantized Transfer Learning for Computer Vision Tutorial](https://pytorch.org/tutorials/intermediate/quantized_transfer_learning_tutorial.html).\n",
        "\n",
        "\n",
        "\n"
      ]
    }
  ]
}